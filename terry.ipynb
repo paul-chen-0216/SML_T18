{
 "cells": [
  {
   "cell_type": "markdown",
   "metadata": {},
   "source": [
    "## Import and Preprocess Data"
   ]
  },
  {
   "cell_type": "code",
   "execution_count": 23,
   "metadata": {},
   "outputs": [],
   "source": [
    "import pandas as pd\n",
    "import numpy as np\n",
    "import matplotlib.pyplot as plt\n",
    "import json\n",
    "import tensorflow as tf\n",
    "import random\n",
    "from sklearn.model_selection import train_test_split\n",
    "from sklearn.model_selection import GridSearchCV\n",
    "from sklearn.feature_extraction.text import CountVectorizer\n",
    "from sklearn.linear_model import LogisticRegression\n",
    "from sklearn.ensemble import BaggingClassifier\n",
    "from sklearn.tree import DecisionTreeClassifier\n",
    "from sklearn.metrics import accuracy_score\n",
    "from tensorflow import keras\n",
    "from tensorflow.keras import layers\n",
    "from tensorflow.keras.models import Sequential\n",
    "from tensorflow.keras.preprocessing.sequence import pad_sequences\n"
   ]
  },
  {
   "cell_type": "code",
   "execution_count": 27,
   "metadata": {},
   "outputs": [],
   "source": [
    "domain_data_1 = \"./data/domain1_train.json\"\n",
    "domain_data_2 = \"./data/domain2_train.json\"\n",
    "test_data = \"./data/test_set.json\"\n",
    "\n",
    "def prepare_data(data, model=None):\n",
    "    if model == 'lstm':\n",
    "        texts = pad_sequences([i['text'] for i in data], padding=\"post\")\n",
    "        labels = np.array([i['label'] for i in data])\n",
    "        return texts, labels.reshape(-1, 1)\n",
    "    else:\n",
    "        texts = [i['text'] for i in data]\n",
    "        labels = np.array([i['label'] for i in data])\n",
    "        return texts, labels\n",
    "\n",
    "def build_model(train_x, dim=128):\n",
    "    model = Sequential(\n",
    "        [\n",
    "            layers.Embedding(input_dim=5000, output_dim=dim, input_length=train_x.shape[1]),\n",
    "            layers.SimpleRNN(128, return_sequences=True),\n",
    "            layers.Dropout(0.5),\n",
    "            layers.Dense(1, activation='sigmoid')\n",
    "        ]\n",
    "    )\n",
    "    model.compile(optimizer='adam', loss='binary_crossentropy',  metrics=['accuracy'])\n",
    "\n",
    "    return model\n",
    "\n",
    "def to_csv(predictions, name='./data/result.csv'):\n",
    "    predictions = np.where(predictions > 0.5, 1, 0).reshape(-1)\n",
    "    df = pd.DataFrame({'id': range(len(predictions)), 'label': predictions})\n",
    "    df.to_csv(name, index=False)\n",
    "\n",
    "def load(path):\n",
    "    data = []\n",
    "    with open(path, 'r') as f:\n",
    "        for line in f:\n",
    "            data.append(json.loads(line))\n",
    "    return data\n",
    "\n",
    "def augment(data):\n",
    "    machine_txts = []\n",
    "    human_txts = []\n",
    "    for i in data:\n",
    "        if i['label'] == 0:\n",
    "            machine_txts.append(i)\n",
    "        else:\n",
    "            human_txts.append(i)\n",
    "    num = len(machine_txts) - len(human_txts)\n",
    "\n",
    "    expand = np.random.choice(human_txts, num)\n",
    "    human_txts.extend(expand)\n",
    "\n",
    "    print(f\"Humans: {len(human_txts)}, Machines: {len(machine_txts)}\")\n",
    "\n",
    "    new_data = human_txts + machine_txts\n",
    "    random.shuffle(new_data)\n",
    "    return new_data\n",
    "\n",
    "def vectorize(x_train, x_val, n_grams=(1, 2)):\n",
    "    x_train_txt = [' '.join(map(str, seq)) for seq in x_train]\n",
    "    x_val_txt = [' '.join(map(str, seq)) for seq in x_val]\n",
    "\n",
    "    vectorizer = CountVectorizer(ngram_range=n_grams)\n",
    "    x_train_transformed = vectorizer.fit_transform(x_train_txt)\n",
    "    x_val_transformed = vectorizer.transform(x_val_txt)\n",
    "\n",
    "    return x_train_transformed, x_val_transformed\n"
   ]
  },
  {
   "cell_type": "code",
   "execution_count": 36,
   "metadata": {},
   "outputs": [],
   "source": [
    "train = load(domain_data_1)\n",
    "texts, labels = prepare_data(train, model='lstm')\n",
    "\n",
    "x_train, x_val, y_train, y_val = train_test_split(texts, labels, test_size=0.2, random_state=42)"
   ]
  },
  {
   "cell_type": "markdown",
   "metadata": {},
   "source": [
    "## RNN Model"
   ]
  },
  {
   "cell_type": "code",
   "execution_count": 37,
   "metadata": {},
   "outputs": [],
   "source": [
    "model_r = build_model(x_train)\n",
    "early_stopping = keras.callbacks.EarlyStopping(monitor='val_loss', patience=1, restore_best_weights=True)"
   ]
  },
  {
   "cell_type": "code",
   "execution_count": 38,
   "metadata": {},
   "outputs": [
    {
     "name": "stdout",
     "output_type": "stream",
     "text": [
      "Epoch 1/10\n",
      "156/156 [==============================] - 26s 161ms/step - loss: 0.6606 - accuracy: 0.5795 - val_loss: 0.5234 - val_accuracy: 0.7798\n",
      "Epoch 2/10\n",
      "156/156 [==============================] - 20s 126ms/step - loss: 0.4633 - accuracy: 0.8301 - val_loss: 0.4293 - val_accuracy: 0.8443\n",
      "Epoch 3/10\n",
      "156/156 [==============================] - 29s 184ms/step - loss: 0.3795 - accuracy: 0.8676 - val_loss: 0.4793 - val_accuracy: 0.8115\n"
     ]
    }
   ],
   "source": [
    "history = model_r.fit(x_train, y_train, epochs=10, batch_size=100, validation_data=(x_val, y_val), callbacks=[early_stopping])"
   ]
  },
  {
   "cell_type": "code",
   "execution_count": 39,
   "metadata": {},
   "outputs": [
    {
     "name": "stdout",
     "output_type": "stream",
     "text": [
      "122/122 [==============================] - 1s 11ms/step\n"
     ]
    }
   ],
   "source": [
    "predications = model_r.predict(x_val)"
   ]
  },
  {
   "cell_type": "markdown",
   "metadata": {},
   "source": [
    "## Logistic Regression Model"
   ]
  },
  {
   "cell_type": "code",
   "execution_count": 47,
   "metadata": {},
   "outputs": [
    {
     "name": "stdout",
     "output_type": "stream",
     "text": [
      "Humans: 12750, Machines: 12750\n"
     ]
    }
   ],
   "source": [
    "train = load(domain_data_2)\n",
    "train = augment(train)\n",
    "texts, labels = prepare_data(train)\n",
    "\n",
    "x_train, x_val, y_train, y_val = train_test_split(texts, labels, test_size=0.2, random_state=42)\n",
    "x_train, x_val = vectorize(x_train, x_val)"
   ]
  },
  {
   "cell_type": "code",
   "execution_count": 48,
   "metadata": {},
   "outputs": [
    {
     "name": "stdout",
     "output_type": "stream",
     "text": [
      "Fitting 10 folds for each of 4 candidates, totalling 40 fits\n",
      "Accuracy: 0.9494117647058824\n"
     ]
    }
   ],
   "source": [
    "lg_model = LogisticRegression(\n",
    "    penalty='l2',\n",
    "    max_iter=1000,\n",
    "    class_weight='balanced',\n",
    ")\n",
    "\n",
    "gridsearch = GridSearchCV(\n",
    "    lg_model,\n",
    "    param_grid={\n",
    "        'C': [0.01, 0.1, 1, 10],\n",
    "    },\n",
    "    cv=10,\n",
    "    scoring='accuracy',\n",
    "    verbose=1,\n",
    ")\n",
    "\n",
    "gridsearch.fit(x_train, y_train.ravel())\n",
    "best_model = gridsearch.best_estimator_\n",
    "predictions_lr = best_model.predict(x_val)\n",
    "acc = accuracy_score(y_val, predictions_lr)\n",
    "print(f\"Accuracy: {acc}\")\n"
   ]
  },
  {
   "cell_type": "markdown",
   "metadata": {},
   "source": [
    "## Bagging Model"
   ]
  },
  {
   "cell_type": "code",
   "execution_count": 49,
   "metadata": {},
   "outputs": [
    {
     "name": "stdout",
     "output_type": "stream",
     "text": [
      "Accuracy: 0.7243137254901961\n"
     ]
    }
   ],
   "source": [
    "\n",
    "base_clf = DecisionTreeClassifier(max_depth=10)\n",
    "bag_clf = BaggingClassifier(estimator=base_clf, n_estimators=100, max_samples=0.5, n_jobs=-1, bootstrap=True, bootstrap_features=True)\n",
    "bag_clf.fit(x_train, y_train)\n",
    "\n",
    "predictions_b = bag_clf.predict(x_val)\n",
    "acc = accuracy_score(y_val, predictions_b)\n",
    "print(f\"Accuracy: {acc}\")\n"
   ]
  },
  {
   "cell_type": "markdown",
   "metadata": {},
   "source": [
    "## Output"
   ]
  },
  {
   "cell_type": "code",
   "execution_count": null,
   "metadata": {},
   "outputs": [],
   "source": []
  }
 ],
 "metadata": {
  "kernelspec": {
   "display_name": "Python 3",
   "language": "python",
   "name": "python3"
  },
  "language_info": {
   "codemirror_mode": {
    "name": "ipython",
    "version": 3
   },
   "file_extension": ".py",
   "mimetype": "text/x-python",
   "name": "python",
   "nbconvert_exporter": "python",
   "pygments_lexer": "ipython3",
   "version": "3.11.2"
  },
  "orig_nbformat": 4
 },
 "nbformat": 4,
 "nbformat_minor": 2
}
