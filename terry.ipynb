{
 "cells": [
  {
   "cell_type": "markdown",
   "metadata": {},
   "source": [
    "## Import and Preprocess Data"
   ]
  },
  {
   "cell_type": "code",
   "execution_count": 1,
   "metadata": {},
   "outputs": [],
   "source": [
    "import pandas as pd\n",
    "import numpy as np\n",
    "import matplotlib.pyplot as plt\n",
    "import json\n",
    "import tensorflow as tf\n",
    "from sklearn.model_selection import train_test_split\n",
    "from tensorflow import keras\n",
    "from tensorflow.keras import layers\n",
    "from tensorflow.keras.models import Sequential\n",
    "from tensorflow.keras.preprocessing.sequence import pad_sequences\n"
   ]
  },
  {
   "cell_type": "code",
   "execution_count": 2,
   "metadata": {},
   "outputs": [],
   "source": [
    "train_data_1 = \"./data/domain1_train.json\"\n",
    "train_data_2 = \"./data/domain2_train.json\"\n",
    "test_data = \"./data/test_set.json\""
   ]
  },
  {
   "cell_type": "code",
   "execution_count": 3,
   "metadata": {},
   "outputs": [
    {
     "name": "stdout",
     "output_type": "stream",
     "text": [
      "(19500, 238) (19500,)\n",
      "(15600, 238) (15600,) (3900, 238) (3900,)\n"
     ]
    }
   ],
   "source": [
    "train = []\n",
    "with open(train_data_1) as f:\n",
    "    for l in f.readlines():\n",
    "        train.append(json.loads(l))\n",
    "\n",
    "def prepare_data(data):\n",
    "    texts = pad_sequences([i['text'] for i in data])\n",
    "    labels = np.array([i['label'] for i in data])\n",
    "    return texts, labels\n",
    "\n",
    "texts, labels = prepare_data(train)\n",
    "\n",
    "def build_model(train_x, dim=128):\n",
    "    model = Sequential(\n",
    "        [\n",
    "            layers.Embedding(input_dim=5000, output_dim=dim, input_length=train_x.shape[1]),\n",
    "            layers.Bidirectional(layers.LSTM(64, return_sequences=True)),\n",
    "            layers.Bidirectional(layers.LSTM(32)),\n",
    "            layers.Dense(64, activation='relu'),\n",
    "            layers.Dropout(0.5),\n",
    "            layers.Dense(1, activation='sigmoid')\n",
    "        ]\n",
    "    )\n",
    "    model.compile(optimizer='adam', loss='binary_crossentropy',  metrics=['accuracy'])\n",
    "\n",
    "    return model\n",
    "print(texts.shape, labels.shape)\n",
    "\n",
    "x_train, x_val, y_train, y_val = train_test_split(texts, labels, test_size=0.2, random_state=12)\n",
    "print(x_train.shape, y_train.shape, x_val.shape, y_val.shape)\n",
    "\n",
    "model = build_model(x_train)\n",
    "early_stopping = keras.callbacks.EarlyStopping(monitor='val_loss', patience=1, restore_best_weights=True)\n"
   ]
  },
  {
   "cell_type": "code",
   "execution_count": 4,
   "metadata": {},
   "outputs": [
    {
     "name": "stdout",
     "output_type": "stream",
     "text": [
      "Epoch 1/10\n",
      "244/244 [==============================] - 112s 445ms/step - loss: 0.2793 - accuracy: 0.8854 - val_loss: 0.1570 - val_accuracy: 0.9418\n",
      "Epoch 2/10\n",
      "244/244 [==============================] - 73s 300ms/step - loss: 0.1176 - accuracy: 0.9628 - val_loss: 0.1430 - val_accuracy: 0.9533\n",
      "Epoch 3/10\n",
      "244/244 [==============================] - 83s 338ms/step - loss: 0.0703 - accuracy: 0.9781 - val_loss: 0.1531 - val_accuracy: 0.9551\n"
     ]
    }
   ],
   "source": [
    "history = model.fit(x_train, y_train, epochs=10, batch_size=64, validation_data=(x_val, y_val), callbacks=[early_stopping])\n"
   ]
  },
  {
   "cell_type": "code",
   "execution_count": 11,
   "metadata": {},
   "outputs": [
    {
     "name": "stdout",
     "output_type": "stream",
     "text": [
      "32/32 [==============================] - 2s 54ms/step\n"
     ]
    }
   ],
   "source": [
    "test = []\n",
    "with open(test_data) as f:\n",
    "    for l in f.readlines():\n",
    "        test.append(json.loads(l))\n",
    "\n",
    "test_txt = pad_sequences([i['text'] for i in test], maxlen=texts.shape[1])\n",
    "\n",
    "predictions = model.predict(test_txt)\n",
    "\n",
    "def to_csv(predictions, name='./data/result.csv'):\n",
    "    predictions = np.where(predictions > 0.5, 1, 0).reshape(-1)\n",
    "    df = pd.DataFrame({'id': range(len(predictions)), 'label': predictions})\n",
    "    df.to_csv(name, index=False)\n",
    "\n",
    "to_csv(predictions)\n"
   ]
  }
 ],
 "metadata": {
  "kernelspec": {
   "display_name": "Python 3",
   "language": "python",
   "name": "python3"
  },
  "language_info": {
   "codemirror_mode": {
    "name": "ipython",
    "version": 3
   },
   "file_extension": ".py",
   "mimetype": "text/x-python",
   "name": "python",
   "nbconvert_exporter": "python",
   "pygments_lexer": "ipython3",
   "version": "3.11.2"
  },
  "orig_nbformat": 4
 },
 "nbformat": 4,
 "nbformat_minor": 2
}
