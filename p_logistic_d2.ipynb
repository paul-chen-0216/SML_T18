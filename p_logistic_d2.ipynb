{
 "cells": [
  {
   "cell_type": "code",
   "execution_count": 28,
   "metadata": {},
   "outputs": [],
   "source": [
    "import numpy as np\n",
    "import json\n",
    "import csv\n",
    "import pickle\n",
    "import json\n",
    "from sklearn.linear_model import LogisticRegression\n",
    "from sklearn.linear_model import LinearRegression\n",
    "from sklearn.model_selection import train_test_split\n",
    "from sklearn.metrics import accuracy_score\n",
    "from sklearn.feature_extraction.text import CountVectorizer\n",
    "from sklearn.model_selection import GridSearchCV\n",
    "from sklearn.feature_extraction.text import TfidfVectorizer\n",
    "from sklearn.feature_extraction.text import HashingVectorizer\n",
    "from tensorflow.keras.preprocessing.sequence import pad_sequences"
   ]
  },
  {
   "cell_type": "code",
   "execution_count": 20,
   "metadata": {},
   "outputs": [
    {
     "data": {
      "text/plain": [
       "14900"
      ]
     },
     "execution_count": 20,
     "metadata": {},
     "output_type": "execute_result"
    }
   ],
   "source": [
    "train_data = []\n",
    "\n",
    "with open('../data/domain2_train.json', 'r') as file:\n",
    "    for line in file:\n",
    "        data = json.loads(line)\n",
    "        train_data.append(data)\n",
    "len(train_data)"
   ]
  },
  {
   "cell_type": "code",
   "execution_count": 21,
   "metadata": {},
   "outputs": [
    {
     "name": "stdout",
     "output_type": "stream",
     "text": [
      "number of Label_1: 2150\n",
      "number of Label_0: 12750\n"
     ]
    }
   ],
   "source": [
    "count_label_1 = 0\n",
    "count_label_0 = 0\n",
    "\n",
    "# 遍历train_data\n",
    "for data_point in train_data:\n",
    "    if data_point[\"label\"] == 1:\n",
    "        count_label_1 += 1\n",
    "    elif data_point[\"label\"] == 0:\n",
    "        count_label_0 += 1\n",
    "\n",
    "# 打印结果\n",
    "print(f'number of Label_1: {count_label_1}')\n",
    "print(f'number of Label_0: {count_label_0}')"
   ]
  },
  {
   "cell_type": "code",
   "execution_count": null,
   "metadata": {},
   "outputs": [],
   "source": [
    "# 计算需要复制的次数\n",
    "label_1_count = 2150\n",
    "label_0_count = 12750\n",
    "copy_factor = label_0_count // label_1_count + 1  # 计算复制的倍数\n",
    "\n",
    "# 复制label为1的数据\n",
    "label_1_data = [data_point for data_point in train_data if data_point[\"label\"] == 1]\n",
    "new_label_1_data = label_1_data * copy_factor\n",
    "\n",
    "# 合并数据\n",
    "new_train_data = [data_point for data_point in train_data if data_point[\"label\"] == 0] + new_label_1_data\n",
    "\n",
    "# 打印结果\n",
    "print(f'处理后label为1的数据条数: {len([d for d in new_train_data if d[\"label\"] == 1])}')\n",
    "print(f'处理后label为0的数据条数: {len([d for d in new_train_data if d[\"label\"] == 0])}')\n"
   ]
  },
  {
   "cell_type": "code",
   "execution_count": 31,
   "metadata": {},
   "outputs": [
    {
     "name": "stdout",
     "output_type": "stream",
     "text": [
      "Data has been saved as individual JSON files.\n"
     ]
    }
   ],
   "source": []
  },
  {
   "cell_type": "code",
   "execution_count": null,
   "metadata": {},
   "outputs": [],
   "source": []
  }
 ],
 "metadata": {
  "kernelspec": {
   "display_name": "base",
   "language": "python",
   "name": "python3"
  },
  "language_info": {
   "codemirror_mode": {
    "name": "ipython",
    "version": 3
   },
   "file_extension": ".py",
   "mimetype": "text/x-python",
   "name": "python",
   "nbconvert_exporter": "python",
   "pygments_lexer": "ipython3",
   "version": "3.8.8"
  },
  "orig_nbformat": 4
 },
 "nbformat": 4,
 "nbformat_minor": 2
}
