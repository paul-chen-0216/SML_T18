{
 "cells": [
  {
   "cell_type": "code",
   "execution_count": 56,
   "metadata": {},
   "outputs": [],
   "source": [
    "import numpy as np\n",
    "import json\n",
    "import random\n",
    "from sklearn.linear_model import LogisticRegression\n",
    "from sklearn.model_selection import train_test_split\n",
    "from sklearn.metrics import accuracy_score\n",
    "from sklearn.feature_extraction.text import CountVectorizer\n",
    "from sklearn.model_selection import GridSearchCV"
   ]
  },
  {
   "cell_type": "code",
   "execution_count": 57,
   "metadata": {},
   "outputs": [
    {
     "name": "stdout",
     "output_type": "stream",
     "text": [
      "12750\n",
      "2150\n",
      "0\n",
      "0\n",
      "2150\n",
      "human: 2150 mahcine: 2150\n",
      "balanced_texts 4300\n",
      "4300\n"
     ]
    }
   ],
   "source": [
    "def chunkify(lst, n):\n",
    "    \"\"\"Split a list into chunks of size n.\"\"\"\n",
    "    return [lst[i:i + n] for i in range(0, len(lst), n)]\n",
    "\n",
    "def duplicate(machine_texts, human_texts):\n",
    "    # Step 1: Determine the number of duplications\n",
    "    num_duplications = len(machine_texts) // len(human_texts)\n",
    "\n",
    "    print(num_duplications)\n",
    "    \n",
    "    # Step 2: Duplicate the human texts\n",
    "    expanded_human_texts = human_texts * num_duplications\n",
    "    \n",
    "    print(len(expanded_human_texts))\n",
    "\n",
    "    # Step 3: Sample the remaining number of human texts if needed\n",
    "    remaining_texts_needed = len(machine_texts) - len(expanded_human_texts)\n",
    "    \n",
    "    print(remaining_texts_needed)\n",
    "    \n",
    "    expanded_human_texts += random.sample(human_texts, remaining_texts_needed)\n",
    "    \n",
    "\n",
    "    # Step 4: Merge and shuffle the lists\n",
    "    print(\"human: \" + str(len(expanded_human_texts)) + \" mahcine: \" + str(len(machine_texts)))\n",
    "    \n",
    "    balanced_texts = expanded_human_texts + machine_texts\n",
    "    \n",
    "    print(f\"balanced_texts {len(balanced_texts)}\")\n",
    "    random.shuffle(balanced_texts)\n",
    "    \n",
    "    return balanced_texts\n",
    "\n",
    "\n",
    "train_data_1 = []\n",
    "\n",
    "with open('domain1_train.json', 'r') as file:\n",
    "    for line in file:\n",
    "        data = json.loads(line)\n",
    "        train_data_1.append(data)\n",
    "\n",
    "train_data_2_human = []\n",
    "train_data_2_machine = []\n",
    "with open('domain2_train.json', 'r') as file:\n",
    "    for line in file:\n",
    "        data = json.loads(line)\n",
    "        if data[\"label\"] == 0: \n",
    "            train_data_2_human.append(data)\n",
    "        else:\n",
    "            train_data_2_machine.append(data)\n",
    "# print(len())\n",
    "print(len(train_data_2_human))\n",
    "print(len(train_data_2_machine))\n",
    "balaned_data_2 = duplicate(train_data_2_machine, train_data_2_human)\n",
    "print(len(balaned_data_2))\n",
    "\n",
    "train_data = train_data_1 + balaned_data_2"
   ]
  },
  {
   "cell_type": "code",
   "execution_count": 58,
   "metadata": {},
   "outputs": [],
   "source": [
    "X = [entry[\"text\"] for entry in train_data]\n",
    "y = [entry[\"label\"] for entry in train_data]"
   ]
  },
  {
   "cell_type": "code",
   "execution_count": 59,
   "metadata": {},
   "outputs": [],
   "source": [
    "X_train, X_test, y_train, y_test = train_test_split(X, y, test_size=0.1, random_state=42)\n"
   ]
  },
  {
   "cell_type": "code",
   "execution_count": 60,
   "metadata": {},
   "outputs": [],
   "source": [
    "# BOW n-grams\n",
    "#vectorizer = HashingVectorizer(n_features=10000)\n",
    "vectorizer = CountVectorizer(ngram_range=(1,2))\n",
    "\n",
    "X_train_text = [' '.join(map(str, sample)) for sample in X_train]\n",
    "X_test_text = [' '.join(map(str, sample)) for sample in X_test]\n",
    "\n",
    "X_train_transformed = vectorizer.fit_transform(X_train_text)\n",
    "X_test_transformed = vectorizer.transform(X_test_text)"
   ]
  },
  {
   "cell_type": "code",
   "execution_count": 61,
   "metadata": {},
   "outputs": [],
   "source": [
    "logistic_model = LogisticRegression(\n",
    "    penalty=\"l2\",\n",
    "    max_iter=1000,\n",
    ")"
   ]
  },
  {
   "cell_type": "code",
   "execution_count": 62,
   "metadata": {},
   "outputs": [
    {
     "name": "stdout",
     "output_type": "stream",
     "text": [
      "Test Accuracy: 0.8689075630252101\n"
     ]
    }
   ],
   "source": [
    "param_grid = {'C': [0.001, 0.01, 0.1, 1, 10]}\n",
    "grid_search = GridSearchCV(logistic_model, param_grid, cv=10)\n",
    "grid_search.fit(X_train_transformed, y_train)\n",
    "best_model = grid_search.best_estimator_\n",
    "y_pred = best_model.predict(X_test_transformed)\n",
    "accuracy = accuracy_score(y_test, y_pred)\n",
    "print(f\"Test Accuracy: {accuracy}\")\n",
    "# kaggle结果76.8%"
   ]
  },
  {
   "cell_type": "code",
   "execution_count": 63,
   "metadata": {},
   "outputs": [],
   "source": [
    "with open('logistic_output_cross_validation.csv', 'w') as output_file:\n",
    "    output_file.write('id,class\\n')  \n",
    "\n",
    "    # read in dataset\n",
    "    with open('test_set.json', 'r') as file:\n",
    "        for line in file:\n",
    "            entry = json.loads(line)\n",
    "            text = entry[\"text\"]\n",
    "\n",
    "            # word embedding\n",
    "            X_test = vectorizer.transform([\" \".join(map(str, text))])\n",
    "\n",
    "            # use logistic model to predict\n",
    "            prediction = best_model.predict(X_test)\n",
    "\n",
    "            # output csv\n",
    "            output_file.write(f\"{entry['id']},{prediction[0]}\\n\")"
   ]
  },
  {
   "cell_type": "code",
   "execution_count": 55,
   "metadata": {},
   "outputs": [],
   "source": [
    "# Write data to a file named \"fruits.txt\"\n",
    "with open(\"test/0.78\", \"w\") as file:\n",
    "    for item in balaned_data_2:\n",
    "        file.write(str(item) + \"\\n\")"
   ]
  }
 ],
 "metadata": {
  "kernelspec": {
   "display_name": "CV",
   "language": "python",
   "name": "python3"
  },
  "language_info": {
   "codemirror_mode": {
    "name": "ipython",
    "version": 3
   },
   "file_extension": ".py",
   "mimetype": "text/x-python",
   "name": "python",
   "nbconvert_exporter": "python",
   "pygments_lexer": "ipython3",
   "version": "3.9.12"
  },
  "orig_nbformat": 4
 },
 "nbformat": 4,
 "nbformat_minor": 2
}
